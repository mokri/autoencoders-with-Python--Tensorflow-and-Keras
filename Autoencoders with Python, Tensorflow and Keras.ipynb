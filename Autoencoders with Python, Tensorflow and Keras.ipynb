{
 "cells": [
  {
   "cell_type": "code",
   "execution_count": 1,
   "id": "bee98b40",
   "metadata": {},
   "outputs": [],
   "source": [
    "import numpy as np\n",
    "import tensorflow as tf\n",
    "from tensorflow import keras\n",
    "import matplotlib.pyplot as plt\n",
    "import cv2 as cv"
   ]
  },
  {
   "cell_type": "code",
   "execution_count": 2,
   "id": "69394a2d",
   "metadata": {},
   "outputs": [],
   "source": [
    "(x_train, y_train), (x_test, y_test) = tf.keras.datasets.mnist.load_data()\n"
   ]
  },
  {
   "cell_type": "code",
   "execution_count": 3,
   "id": "0c8a1ace",
   "metadata": {},
   "outputs": [
    {
     "data": {
      "text/plain": [
       "<matplotlib.image.AxesImage at 0x7f2eae58d4f0>"
      ]
     },
     "execution_count": 3,
     "metadata": {},
     "output_type": "execute_result"
    },
    {
     "data": {
      "image/png": "[encoded data removed]",
      "text/plain": [
       "<Figure size 432x288 with 1 Axes>"
      ]
     },
     "metadata": {
      "needs_background": "light"
     },
     "output_type": "display_data"
    }
   ],
   "source": [
    "plt.imshow(x_train[500], cmap=\"gray\")"
   ]
  },
  {
   "cell_type": "code",
   "execution_count": 4,
   "id": "8e0a8fdd",
   "metadata": {},
   "outputs": [],
   "source": [
    "x_train = x_train/255."
   ]
  },
  {
   "cell_type": "code",
   "execution_count": 5,
   "id": "ba27d34b",
   "metadata": {},
   "outputs": [],
   "source": [
    "x_test = x_test/255."
   ]
  },
  {
   "cell_type": "code",
   "execution_count": 6,
   "id": "1cc8e4dd",
   "metadata": {},
   "outputs": [
    {
     "data": {
      "text/plain": [
       "(28, 28)"
      ]
     },
     "execution_count": 6,
     "metadata": {},
     "output_type": "execute_result"
    }
   ],
   "source": [
    "x_train[0].shape"
   ]
  },
  {
   "cell_type": "code",
   "execution_count": 7,
   "id": "ade1784e",
   "metadata": {},
   "outputs": [
    {
     "name": "stderr",
     "output_type": "stream",
     "text": [
      "2021-12-17 17:38:10.420012: E tensorflow/stream_executor/cuda/cuda_driver.cc:271] failed call to cuInit: CUDA_ERROR_NO_DEVICE: no CUDA-capable device is detected\n",
      "2021-12-17 17:38:10.420119: I tensorflow/stream_executor/cuda/cuda_diagnostics.cc:156] kernel driver does not appear to be running on this host (abdelhak-X555UJ): /proc/driver/nvidia/version does not exist\n",
      "2021-12-17 17:38:10.420831: I tensorflow/core/platform/cpu_feature_guard.cc:142] This TensorFlow binary is optimized with oneAPI Deep Neural Network Library (oneDNN) to use the following CPU instructions in performance-critical operations:  AVX2 FMA\n",
      "To enable them in other operations, rebuild TensorFlow with the appropriate compiler flags.\n"
     ]
    }
   ],
   "source": [
    "encoder_input = keras.Input(shape=(28,28,1), name=\"img\")\n",
    "x = keras.layers.Flatten()(encoder_input)\n",
    "encoder_out = keras.layers.Dense(64, activation=\"relu\")(x)"
   ]
  },
  {
   "cell_type": "code",
   "execution_count": 8,
   "id": "69c067c0",
   "metadata": {},
   "outputs": [],
   "source": [
    "encoder = keras.Model(encoder_input, encoder_out, name=\"encoder\")"
   ]
  },
  {
   "cell_type": "code",
   "execution_count": 9,
   "id": "546cbdde",
   "metadata": {},
   "outputs": [
    {
     "data": {
      "text/plain": [
       "<matplotlib.image.AxesImage at 0x7f2eae7bf880>"
      ]
     },
     "execution_count": 9,
     "metadata": {},
     "output_type": "execute_result"
    },
    {
     "data": {
      "image/png": "[encoded data removed]",
      "text/plain": [
       "<Figure size 432x288 with 1 Axes>"
      ]
     },
     "metadata": {
      "needs_background": "light"
     },
     "output_type": "display_data"
    }
   ],
   "source": [
    "plt.imshow(x_train[0], cmap=\"gray\")"
   ]
  },
  {
   "cell_type": "code",
   "execution_count": 10,
   "id": "c66f90e1",
   "metadata": {},
   "outputs": [
    {
     "data": {
      "text/plain": [
       "(28, 28)"
      ]
     },
     "execution_count": 10,
     "metadata": {},
     "output_type": "execute_result"
    }
   ],
   "source": [
    "x_train[0].shape\n"
   ]
  },
  {
   "cell_type": "code",
   "execution_count": 11,
   "id": "fbbc7ad1",
   "metadata": {},
   "outputs": [],
   "source": [
    "encoder_input = keras.Input(shape=(28, 28, 1), name='img')\n"
   ]
  },
  {
   "cell_type": "code",
   "execution_count": 12,
   "id": "3b7c8383",
   "metadata": {},
   "outputs": [],
   "source": [
    "x = keras.layers.Flatten()(encoder_input)\n"
   ]
  },
  {
   "cell_type": "code",
   "execution_count": 13,
   "id": "d0f6a54b",
   "metadata": {},
   "outputs": [],
   "source": [
    "encoder_output = keras.layers.Dense(64, activation=\"relu\")(x)\n"
   ]
  },
  {
   "cell_type": "code",
   "execution_count": 14,
   "id": "4b66a49e",
   "metadata": {},
   "outputs": [],
   "source": [
    "encoder = keras.Model(encoder_input, encoder_output, name='encoder')\n"
   ]
  },
  {
   "cell_type": "code",
   "execution_count": 15,
   "id": "f670a1b2",
   "metadata": {},
   "outputs": [],
   "source": [
    "decoder_input = keras.layers.Dense(64, activation=\"relu\")(encoder_output)\n"
   ]
  },
  {
   "cell_type": "code",
   "execution_count": 16,
   "id": "ffae46c8",
   "metadata": {},
   "outputs": [],
   "source": [
    "x = keras.layers.Dense(784, activation=\"relu\")(decoder_input)\n"
   ]
  },
  {
   "cell_type": "code",
   "execution_count": 17,
   "id": "f224c657",
   "metadata": {},
   "outputs": [],
   "source": [
    "decoder_output = keras.layers.Reshape((28, 28, 1))(x)\n"
   ]
  },
  {
   "cell_type": "code",
   "execution_count": 18,
   "id": "2cd5115a",
   "metadata": {},
   "outputs": [
    {
     "name": "stderr",
     "output_type": "stream",
     "text": [
      "/home/abdelhak/anaconda3/envs/encoder/lib/python3.8/site-packages/keras/optimizer_v2/optimizer_v2.py:355: UserWarning: The `lr` argument is deprecated, use `learning_rate` instead.\n",
      "  warnings.warn(\n"
     ]
    }
   ],
   "source": [
    "opt = tf.keras.optimizers.Adam(lr=0.001, decay=1e-6)\n"
   ]
  },
  {
   "cell_type": "code",
   "execution_count": 19,
   "id": "984bc12f",
   "metadata": {},
   "outputs": [],
   "source": [
    "autoencoder = keras.Model(encoder_input, decoder_output, name='autoencoder')\n"
   ]
  },
  {
   "cell_type": "code",
   "execution_count": 20,
   "id": "4632141b",
   "metadata": {},
   "outputs": [
    {
     "name": "stdout",
     "output_type": "stream",
     "text": [
      "Model: \"autoencoder\"\n",
      "_________________________________________________________________\n",
      "Layer (type)                 Output Shape              Param #   \n",
      "=================================================================\n",
      "img (InputLayer)             [(None, 28, 28, 1)]       0         \n",
      "_________________________________________________________________\n",
      "flatten_1 (Flatten)          (None, 784)               0         \n",
      "_________________________________________________________________\n",
      "dense_1 (Dense)              (None, 64)                50240     \n",
      "_________________________________________________________________\n",
      "dense_2 (Dense)              (None, 64)                4160      \n",
      "_________________________________________________________________\n",
      "dense_3 (Dense)              (None, 784)               50960     \n",
      "_________________________________________________________________\n",
      "reshape (Reshape)            (None, 28, 28, 1)         0         \n",
      "=================================================================\n",
      "Total params: 105,360\n",
      "Trainable params: 105,360\n",
      "Non-trainable params: 0\n",
      "_________________________________________________________________\n"
     ]
    }
   ],
   "source": [
    "autoencoder.summary()\n"
   ]
  },
  {
   "cell_type": "code",
   "execution_count": 21,
   "id": "a94417f3",
   "metadata": {},
   "outputs": [],
   "source": [
    "autoencoder.compile(opt, loss='mse')\n"
   ]
  },
  {
   "cell_type": "code",
   "execution_count": 22,
   "id": "d38408eb",
   "metadata": {},
   "outputs": [
    {
     "name": "stderr",
     "output_type": "stream",
     "text": [
      "2021-12-17 17:38:18.423359: W tensorflow/core/framework/cpu_allocator_impl.cc:80] Allocation of 169344000 exceeds 10% of free system memory.\n",
      "2021-12-17 17:38:19.127009: W tensorflow/core/framework/cpu_allocator_impl.cc:80] Allocation of 169344000 exceeds 10% of free system memory.\n",
      "2021-12-17 17:38:19.789887: I tensorflow/compiler/mlir/mlir_graph_optimization_pass.cc:185] None of the MLIR Optimization Passes are enabled (registered 2)\n"
     ]
    },
    {
     "name": "stdout",
     "output_type": "stream",
     "text": [
      "1688/1688 [==============================] - 9s 4ms/step - loss: 0.0214 - val_loss: 0.0150\n"
     ]
    },
    {
     "name": "stderr",
     "output_type": "stream",
     "text": [
      "2021-12-17 17:38:29.642676: W tensorflow/python/util/util.cc:348] Sets are not currently considered sequences, but this may change in the future, so consider avoiding using them.\n"
     ]
    },
    {
     "name": "stdout",
     "output_type": "stream",
     "text": [
      "INFO:tensorflow:Assets written to: models/AE-1.model/assets\n"
     ]
    },
    {
     "name": "stderr",
     "output_type": "stream",
     "text": [
      "2021-12-17 17:38:30.946107: W tensorflow/core/framework/cpu_allocator_impl.cc:80] Allocation of 169344000 exceeds 10% of free system memory.\n"
     ]
    },
    {
     "name": "stdout",
     "output_type": "stream",
     "text": [
      "  17/1688 [..............................] - ETA: 5s - loss: 0.0148"
     ]
    },
    {
     "name": "stderr",
     "output_type": "stream",
     "text": [
      "2021-12-17 17:38:31.479914: W tensorflow/core/framework/cpu_allocator_impl.cc:80] Allocation of 169344000 exceeds 10% of free system memory.\n"
     ]
    },
    {
     "name": "stdout",
     "output_type": "stream",
     "text": [
      "1688/1688 [==============================] - 7s 4ms/step - loss: 0.0142 - val_loss: 0.0136\n",
      "INFO:tensorflow:Assets written to: models/AE-2.model/assets\n"
     ]
    },
    {
     "name": "stderr",
     "output_type": "stream",
     "text": [
      "2021-12-17 17:38:40.571749: W tensorflow/core/framework/cpu_allocator_impl.cc:80] Allocation of 169344000 exceeds 10% of free system memory.\n"
     ]
    },
    {
     "name": "stdout",
     "output_type": "stream",
     "text": [
      "1688/1688 [==============================] - 8s 5ms/step - loss: 0.0133 - val_loss: 0.0130\n",
      "INFO:tensorflow:Assets written to: models/AE-3.model/assets\n"
     ]
    }
   ],
   "source": [
    "epochs=3\n",
    "\n",
    "for epoch in range(epochs):\n",
    "\n",
    "    history = autoencoder.fit(\n",
    "      x_train,\n",
    "      x_train,\n",
    "      epochs=1, \n",
    "      batch_size=32, validation_split=0.10\n",
    "        )   \n",
    "    autoencoder.save(f\"models/AE-{epoch+1}.model\")"
   ]
  },
  {
   "cell_type": "code",
   "execution_count": 23,
   "id": "c6477bd6",
   "metadata": {},
   "outputs": [],
   "source": [
    "example = encoder.predict([ x_test[0].reshape(-1, 28, 28, 1) ])\n"
   ]
  },
  {
   "cell_type": "code",
   "execution_count": 24,
   "id": "9397708f",
   "metadata": {},
   "outputs": [
    {
     "name": "stdout",
     "output_type": "stream",
     "text": [
      "(64,)\n",
      "[1.934394   1.2699592  1.5623329  0.3209718  1.2989218  1.3186135\n",
      " 2.0299335  0.         0.         0.472505   2.2434673  2.6076272\n",
      " 1.0009007  1.1784184  1.9641362  1.086905   1.6549085  0.47315583\n",
      " 0.         0.33655736 2.2557323  0.88696146 0.90637726 1.789779\n",
      " 3.0993555  1.1671822  0.56220514 1.2001313  0.         1.890345\n",
      " 0.23923063 0.20428878 1.2651078  1.1118758  0.         0.8778074\n",
      " 0.         1.1874318  1.2773175  1.8145347  2.2101228  3.5908115\n",
      " 1.5103058  2.1732485  0.         1.8171968  1.0329976  0.6338739\n",
      " 2.0452564  1.5488306  3.026658   1.6693038  1.1208129  2.3611522\n",
      " 1.1958444  1.5440571  2.082672   1.1515905  0.         1.5920919\n",
      " 0.         1.6608183  1.6983844  0.        ]\n"
     ]
    }
   ],
   "source": [
    "print(example[0].shape)\n",
    "print(example[0])\n"
   ]
  },
  {
   "cell_type": "code",
   "execution_count": 25,
   "id": "4aacde9f",
   "metadata": {},
   "outputs": [
    {
     "data": {
      "text/plain": [
       "<matplotlib.image.AxesImage at 0x7f2e8c0ff4f0>"
      ]
     },
     "execution_count": 25,
     "metadata": {},
     "output_type": "execute_result"
    },
    {
     "data": {
      "image/png": "[encoded data removed]",
      "text/plain": [
       "<Figure size 432x288 with 1 Axes>"
      ]
     },
     "metadata": {
      "needs_background": "light"
     },
     "output_type": "display_data"
    }
   ],
   "source": [
    "plt.imshow(example[0].reshape((8,8)), cmap=\"gray\")\n"
   ]
  },
  {
   "cell_type": "code",
   "execution_count": 26,
   "id": "3577a5bc",
   "metadata": {},
   "outputs": [
    {
     "data": {
      "text/plain": [
       "<matplotlib.image.AxesImage at 0x7f2e84e6b580>"
      ]
     },
     "execution_count": 26,
     "metadata": {},
     "output_type": "execute_result"
    },
    {
     "data": {
      "image/png": "[encoded data removed]",
      "text/plain": [
       "<Figure size 432x288 with 1 Axes>"
      ]
     },
     "metadata": {
      "needs_background": "light"
     },
     "output_type": "display_data"
    }
   ],
   "source": [
    "plt.imshow(x_test[0], cmap=\"gray\")\n"
   ]
  },
  {
   "cell_type": "code",
   "execution_count": 27,
   "id": "1f8e171a",
   "metadata": {},
   "outputs": [
    {
     "data": {
      "text/plain": [
       "<matplotlib.image.AxesImage at 0x7f2e84dbef70>"
      ]
     },
     "execution_count": 27,
     "metadata": {},
     "output_type": "execute_result"
    },
    {
     "data": {
      "image/png": "[encoded data removed]",
      "text/plain": [
       "<Figure size 432x288 with 1 Axes>"
      ]
     },
     "metadata": {
      "needs_background": "light"
     },
     "output_type": "display_data"
    }
   ],
   "source": [
    "ae_out = autoencoder.predict([ x_test[0].reshape(-1, 28, 28, 1) ])\n",
    "img = ae_out[0]  # predict is done on a vector, and returns a vector, even if its just 1 element, so we still need to grab the 0th\n",
    "plt.imshow(ae_out[0], cmap=\"gray\")"
   ]
  },
  {
   "cell_type": "code",
   "execution_count": 28,
   "id": "69bf5a5b",
   "metadata": {},
   "outputs": [
    {
     "name": "stdout",
     "output_type": "stream",
     "text": [
      "Note: you may need to restart the kernel to use updated packages.\n"
     ]
    }
   ],
   "source": [
    "pip freeze > requirements.txt"
   ]
  },
  {
   "cell_type": "code",
   "execution_count": null,
   "id": "2d1ab4d0",
   "metadata": {},
   "outputs": [],
   "source": []
  }
 ],
 "metadata": {
  "kernelspec": {
   "display_name": "Python 3 (ipykernel)",
   "language": "python",
   "name": "python3"
  },
  "language_info": {
   "codemirror_mode": {
    "name": "ipython",
    "version": 3
   },
   "file_extension": ".py",
   "mimetype": "text/x-python",
   "name": "python",
   "nbconvert_exporter": "python",
   "pygments_lexer": "ipython3",
   "version": "3.8.12"
  }
 },
 "nbformat": 4,
 "nbformat_minor": 5
}
